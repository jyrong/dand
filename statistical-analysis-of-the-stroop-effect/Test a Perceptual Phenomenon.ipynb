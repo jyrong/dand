{
 "cells": [
  {
   "cell_type": "markdown",
   "metadata": {},
   "source": [
    "### Analyze the Stroop Effect\n",
    "\n",
    "**(1)** What is the independent variable? What is the dependent variable?"
   ]
  },
  {
   "cell_type": "markdown",
   "metadata": {},
   "source": [
    "The independent variable is the condition, defined as whether the words displayed are color words whose names match the colors as printed. In this case, there are two conditions, congruent and incongruent. The dependent variable is the response time to name the colors in equally-sized lists."
   ]
  },
  {
   "cell_type": "markdown",
   "metadata": {},
   "source": [
    "**(2)** What is an appropriate set of hypotheses for this task? Specify your null and alternative hypotheses, and clearly define any notation used. Justify your choices."
   ]
  },
  {
   "cell_type": "markdown",
   "metadata": {},
   "source": [
    "$$ H_0: \\mu_{Congruent} \\ge \\mu_{Incongruent}  $$\n",
    "$$ H_1: \\mu_{Congruent} <  \\mu_{Incongruent} $$\n",
    "\n",
    "My null hypothesis states that the population mean response time to congruent words condition, notated as $\\mu_{Congruent}$, is greater than or equal to the population mean response time to incongruent words condition, notated as $\\mu_{Incongruent}$. My alternative hypothese asserts that the former is less than the latter.\n",
    "\n",
    "It is important to note the assumption that we are making a statistical inference on the population from which samples are drawn.\n",
    "\n",
    "In this case, it is appropriate to conduct a one-tailed dependent t-test for paired samples becuase our goal is to determine whether it takes longer to respond to incongruent words condition than congruent words condition. Because the sample size of 24 is smaller than 30, I've chosen the t-test instead of the z-test.\n",
    "\n",
    "As a result, I need to make a few assumptions. First, I must assume that the samples are drawn a population with a normal distribution in order to apply the t-test. Second, becuase the population's standard deviation is unknown, the t-test is preferred due to the limited sample size and the prior assumption. Last, the assumption that sampling is random and pairs of observations are independent is necessary. \n",
    "\n",
    "I've decided to use the paired t-test rather than the unpaired t-test since paired samples are collected on the basis of behavior expected to affect the dependent variable as defined in the prevoius question. "
   ]
  },
  {
   "cell_type": "markdown",
   "metadata": {},
   "source": [
    "**(3)** Report some descriptive statistics regarding this dataset. Include at least one measure of central tendency and at least one measure of variability. The name of the data file is 'stroopdata.csv'."
   ]
  },
  {
   "cell_type": "code",
   "execution_count": 1,
   "metadata": {},
   "outputs": [
    {
     "data": {
      "text/html": [
       "<div>\n",
       "<style>\n",
       "    .dataframe thead tr:only-child th {\n",
       "        text-align: right;\n",
       "    }\n",
       "\n",
       "    .dataframe thead th {\n",
       "        text-align: left;\n",
       "    }\n",
       "\n",
       "    .dataframe tbody tr th {\n",
       "        vertical-align: top;\n",
       "    }\n",
       "</style>\n",
       "<table border=\"1\" class=\"dataframe\">\n",
       "  <thead>\n",
       "    <tr style=\"text-align: right;\">\n",
       "      <th></th>\n",
       "      <th>Congruent</th>\n",
       "      <th>Incongruent</th>\n",
       "      <th>diff</th>\n",
       "    </tr>\n",
       "  </thead>\n",
       "  <tbody>\n",
       "    <tr>\n",
       "      <th>count</th>\n",
       "      <td>24.000000</td>\n",
       "      <td>24.000000</td>\n",
       "      <td>24.000000</td>\n",
       "    </tr>\n",
       "    <tr>\n",
       "      <th>mean</th>\n",
       "      <td>14.051125</td>\n",
       "      <td>22.015917</td>\n",
       "      <td>-7.964792</td>\n",
       "    </tr>\n",
       "    <tr>\n",
       "      <th>std</th>\n",
       "      <td>3.559358</td>\n",
       "      <td>4.797057</td>\n",
       "      <td>4.864827</td>\n",
       "    </tr>\n",
       "    <tr>\n",
       "      <th>min</th>\n",
       "      <td>8.630000</td>\n",
       "      <td>15.687000</td>\n",
       "      <td>-21.919000</td>\n",
       "    </tr>\n",
       "    <tr>\n",
       "      <th>25%</th>\n",
       "      <td>11.895250</td>\n",
       "      <td>18.716750</td>\n",
       "      <td>-10.258500</td>\n",
       "    </tr>\n",
       "    <tr>\n",
       "      <th>50%</th>\n",
       "      <td>14.356500</td>\n",
       "      <td>21.017500</td>\n",
       "      <td>-7.666500</td>\n",
       "    </tr>\n",
       "    <tr>\n",
       "      <th>75%</th>\n",
       "      <td>16.200750</td>\n",
       "      <td>24.051500</td>\n",
       "      <td>-3.645500</td>\n",
       "    </tr>\n",
       "    <tr>\n",
       "      <th>max</th>\n",
       "      <td>22.328000</td>\n",
       "      <td>35.255000</td>\n",
       "      <td>-1.950000</td>\n",
       "    </tr>\n",
       "  </tbody>\n",
       "</table>\n",
       "</div>"
      ],
      "text/plain": [
       "       Congruent  Incongruent       diff\n",
       "count  24.000000    24.000000  24.000000\n",
       "mean   14.051125    22.015917  -7.964792\n",
       "std     3.559358     4.797057   4.864827\n",
       "min     8.630000    15.687000 -21.919000\n",
       "25%    11.895250    18.716750 -10.258500\n",
       "50%    14.356500    21.017500  -7.666500\n",
       "75%    16.200750    24.051500  -3.645500\n",
       "max    22.328000    35.255000  -1.950000"
      ]
     },
     "execution_count": 1,
     "metadata": {},
     "output_type": "execute_result"
    }
   ],
   "source": [
    "import pandas as pd\n",
    "import numpy as np\n",
    "from scipy import stats\n",
    "import matplotlib.pyplot as plt\n",
    "%matplotlib inline\n",
    "\n",
    "# Descriptive statistics section\n",
    "df = pd.read_csv('stroopdata.csv')\n",
    "df['diff'] = df['Congruent'] - df['Incongruent']\n",
    "df.describe()"
   ]
  },
  {
   "cell_type": "markdown",
   "metadata": {},
   "source": [
    "**Measure of Central Tendency: Mean of Response Times**\n",
    "$$ \\mu_{Congruent} = 14.0511 $$\n",
    "$$ \\mu_{Incongruent} = 22.0159 $$\n",
    "\n",
    "**Measure of Variability: Standard Deviation of Response Times**\n",
    "$$ \\sigma_{Congruent} = 3.5594 $$\n",
    "$$ \\sigma_{Incongruent} = 4.7971 $$"
   ]
  },
  {
   "cell_type": "markdown",
   "metadata": {},
   "source": [
    "**(4)** Provide one or two visualizations that show the distribution of the sample data. Write one or two sentences noting what you observe about the plot or plots."
   ]
  },
  {
   "cell_type": "code",
   "execution_count": 2,
   "metadata": {},
   "outputs": [
    {
     "data": {
      "text/plain": [
       "array([[<matplotlib.axes._subplots.AxesSubplot object at 0x7f43291c9ef0>,\n",
       "        <matplotlib.axes._subplots.AxesSubplot object at 0x7f43270f0240>,\n",
       "        <matplotlib.axes._subplots.AxesSubplot object at 0x7f43270ab780>]], dtype=object)"
      ]
     },
     "execution_count": 2,
     "metadata": {},
     "output_type": "execute_result"
    },
    {
     "data": {
      "image/png": "[encoded data removed]",
      "text/plain": [
       "<matplotlib.figure.Figure at 0x7f4350118748>"
      ]
     },
     "metadata": {},
     "output_type": "display_data"
    }
   ],
   "source": [
    "# Histograms for 3 sets of data: congruent, incongruent, and difference\n",
    "df.hist(layout=(1, 3), figsize=(16, 4))"
   ]
  },
  {
   "cell_type": "markdown",
   "metadata": {},
   "source": [
    "The first two histograms plots show some skewness. The last histogram displays varying degrees of difference between two samples."
   ]
  },
  {
   "cell_type": "code",
   "execution_count": 3,
   "metadata": {},
   "outputs": [
    {
     "data": {
      "text/plain": [
       "<matplotlib.axes._subplots.AxesSubplot at 0x7f4326e6b2b0>"
      ]
     },
     "execution_count": 3,
     "metadata": {},
     "output_type": "execute_result"
    },
    {
     "data": {
      "image/png": "[encoded data removed]",
      "text/plain": [
       "<matplotlib.figure.Figure at 0x7f4326eb7a20>"
      ]
     },
     "metadata": {},
     "output_type": "display_data"
    }
   ],
   "source": [
    "df.boxplot()"
   ]
  },
  {
   "cell_type": "markdown",
   "metadata": {},
   "source": [
    "The boxplots are more revealing in that the difference between congruent and incongruent data is clear. Even disregarding the outliers of incongruent data, I can visually establish that it takes longer to respond to incongruent words condition than to congruent words condition. This will serve as my prediction before running the statistical test."
   ]
  },
  {
   "cell_type": "markdown",
   "metadata": {},
   "source": [
    "(5)  Now, perform the statistical test and report your results. What is your confidence level or Type I error associated with your test? What is your conclusion regarding the hypotheses you set up? Did the results match up with your expectations? **Hint:**  Think about what is being measured on each individual, and what statistic best captures how an individual reacts in each environment."
   ]
  },
  {
   "cell_type": "code",
   "execution_count": 4,
   "metadata": {},
   "outputs": [
    {
     "data": {
      "text/plain": [
       "Ttest_relResult(statistic=-8.020706944109957, pvalue=4.1030005857111781e-08)"
      ]
     },
     "execution_count": 4,
     "metadata": {},
     "output_type": "execute_result"
    }
   ],
   "source": [
    "# statistical test using SciPy\n",
    "congruent = df['Congruent']\n",
    "incongruent = df['Incongruent']\n",
    "stats.ttest_rel(congruent, incongruent)"
   ]
  },
  {
   "cell_type": "markdown",
   "metadata": {},
   "source": [
    "My confidence level, or Type I error, is set at 5%, which implies a critical value of -1.7139 with a degree of freedom of 23.\n",
    "\n",
    "My one-tailed dependent t-test for paired samples returns a test statistic of -8.0207, which is to the left of the critical value, and a p-value much smaller than the alpha. Both results point to the same conclusion that I can reject the null hypothesis. In other words, the response time to congruent words condition is shorter than that to incongruent words condition.\n",
    "\n",
    "The results matched my expectation that incongruent words condition causes delays in brain activities since the brain needs to resolve visual conflicts. According to the data, the average delay is about 8 seconds."
   ]
  },
  {
   "cell_type": "markdown",
   "metadata": {},
   "source": [
    "(6) Optional: What do you think is responsible for the effects observed? Can you think of an alternative or similar task that would result in a similar effect? Some research about the problem will be helpful for thinking about these two questions!"
   ]
  },
  {
   "cell_type": "markdown",
   "metadata": {},
   "source": [
    "I am no expert in neuroscience. After some research about this topic, I believe the Stroop effect has much to do with how the brain resolves cognitive conflicts and slows down its decision-making process given higher probability of errors.\n",
    "\n",
    "I can think of a similar task related to the numerical Stroop effect demonstrating the relationship between numerical values and physical sizes. Let's consider scenarios in which numbers are printed on paper of large or small sizes regardless of their actual numerical values. Congruent pairs appear when sizes and values match (large/small values correspond to large/small sizes) whereas discrepancies between sizes and values results in incongruent pairs (large values correspond to small sizes or small values correspond to large sizes)."
   ]
  },
  {
   "cell_type": "code",
   "execution_count": 5,
   "metadata": {},
   "outputs": [
    {
     "data": {
      "text/plain": [
       "0"
      ]
     },
     "execution_count": 5,
     "metadata": {},
     "output_type": "execute_result"
    }
   ],
   "source": [
    "from subprocess import call\n",
    "call(['python', '-m', 'nbconvert', 'Test a Perceptual Phenomenon.ipynb'])"
   ]
  },
  {
   "cell_type": "markdown",
   "metadata": {},
   "source": [
    "### References\n",
    "1. Wikipedia contributors. \"[Stroop Effect.](https://en.wikipedia.org/wiki/Stroop_effect)\" Wikipedia, The Free Encyclopedia. Wikipedia, The Free Encyclopedia, 16 May. 2018. Web. 14 Jun. 2018.\n",
    "2. Wikipedia contributors. \"[Numerical Stroop Effect.](https://en.wikipedia.org/wiki/Numerical_Stroop_effect)\" Wikipedia, The Free Encyclopedia. Wikipedia, The Free Encyclopedia, 1 May. 2018. Web. 14 Jun. 2018."
   ]
  }
 ],
 "metadata": {
  "kernelspec": {
   "display_name": "Python 3",
   "language": "python",
   "name": "python3"
  },
  "language_info": {
   "codemirror_mode": {
    "name": "ipython",
    "version": 3
   },
   "file_extension": ".py",
   "mimetype": "text/x-python",
   "name": "python",
   "nbconvert_exporter": "python",
   "pygments_lexer": "ipython3",
   "version": "3.6.3"
  }
 },
 "nbformat": 4,
 "nbformat_minor": 2
}
